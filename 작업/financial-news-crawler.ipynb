{
 "cells": [
  {
   "cell_type": "code",
   "execution_count": 3,
   "id": "c5656b73-72d4-46db-967d-5b7bbb55e659",
   "metadata": {},
   "outputs": [],
   "source": [
    "import json, logging, os, re, requests, sys, time\n",
    "import pandas as pd\n",
    "\n",
    "from bs4 import BeautifulSoup as bs\n",
    "from urllib.request import urlopen, Request\n",
    "from datetime import date, datetime\n",
    "from pykrx import stock\n",
    "from webob.compat import urlparse\n",
    "import lxml\n",
    "URL_NAVER_FINANCE_NEWS_QUERY = \"https://finance.naver.com/news/news_search.nhn?rcdate=&q=%s&x=0&y=0&sm=all.basic&pd=4&stDateStart=%s&stDateEnd=%s&page=%s\"\n",
    "URL_NAVER_FINANCE = \"http://finance.naver.com\""
   ]
  },
  {
   "cell_type": "code",
   "execution_count": 4,
   "id": "ed56ee7b-033d-4e2d-bfaf-f5f1f71f73c3",
   "metadata": {},
   "outputs": [],
   "source": [
    "# pip install webob\n",
    "# pip install pykrx\n",
    "# pip install lxml"
   ]
  },
  {
   "cell_type": "code",
   "execution_count": 5,
   "id": "1efacf24-7f14-4e1b-bfb3-369484a57996",
   "metadata": {},
   "outputs": [],
   "source": [
    "class NaverFinanceNewsCrawler:\n",
    "    def __init__(self):\n",
    "        self.ticker = None\n",
    "        self.result = []\n",
    "        pass\n",
    "\n",
    "    def _crawl_by_query(self, ticker, dt):\n",
    "        \"\"\"\n",
    "        Crawl Naver Finance News\n",
    "        :param ticker: string; search keywords\n",
    "        :return: generator; [{title, summary, url, articleId, content, codes}, ...]\n",
    "        \"\"\"\n",
    "        comp_name = stock.get_market_ticker_name(ticker)\n",
    "        print(\"comp name = \", comp_name)\n",
    "        # Convert the query to euc-kr string\n",
    "        q = \"\"\n",
    "        for c in comp_name.encode(\"euc-kr\"):\n",
    "            q += \"%%%s\" % format(c, \"x\").capitalize()\n",
    "\n",
    "        # 여러 페이지를 동시에 돌려주므로, 기사가 존재할 때까지 loop 돌면서 뉴스 가져오기\n",
    "        page = 1\n",
    "        n_news = 0\n",
    "\n",
    "        while True:\n",
    "            r_url = URL_NAVER_FINANCE_NEWS_QUERY % (q, dt, dt, page,)\n",
    "            print('url = ', r_url)\n",
    "            r = requests.get(r_url)\n",
    "            soup = bs(r.text, \"lxml\")\n",
    "            news = soup.find(\"div\", class_=\"newsSchResult\").find(\n",
    "                \"dl\", class_=\"newsList\"\n",
    "            )\n",
    "            news_title = news.find_all(\"dd\", class_=\"articleSubject\")\n",
    "            news_summary = news.find_all(\"dd\", class_=\"articleSummary\")\n",
    "            wdate = news.find_all(\"span\", class_=\"wdate\")\n",
    "            n_news += len(news_title)\n",
    "\n",
    "            if len(news_title) > 0:\n",
    "                for title, summary, _date in zip(news_title, news_summary, wdate):\n",
    "                    date = _date.find(text=True).split(\"\\n\")[2].strip()\n",
    "\n",
    "                    if date == dt:\n",
    "                        url = URL_NAVER_FINANCE + title.a.get(\"href\")\n",
    "                        res = {\n",
    "                            \"title\": title.a.text,\n",
    "                            \"summary\": summary.find(text=True).strip(\" \\t\\n\\r\"),\n",
    "                            \"url\": url,\n",
    "                            \"ticker\": ticker,\n",
    "                            \"articleId\": urlparse.parse_qs(\n",
    "                                urlparse.urlparse(url).query\n",
    "                            )[\"article_id\"][0],\n",
    "                            \"date\": date,\n",
    "                        }\n",
    "                        res.update(self._crawl_content(url))\n",
    "                        #             if self.query in res['title']:\n",
    "                        self.result.append(res)\n",
    "                        time.sleep(1)\n",
    "                page += 1\n",
    "\n",
    "            else:\n",
    "                break\n",
    "        print(\"number of news for comp {} = {}\".format(comp_name, n_news))\n",
    "\n",
    "    def _crawl_content(self, url):\n",
    "        r = requests.get(url)\n",
    "        soup = bs(r.text, \"lxml\")\n",
    "        content = soup.find(\"div\", id=\"content\", class_=\"articleCont\")\n",
    "        codes = re.findall(r\"\\d{6}\", content.text)\n",
    "        cntnt = content.text.strip(\" \\t\\n\\r\").split(\"@\")[0]\n",
    "        # 마지막 마침표 이후 제거\n",
    "        effix = cntnt.split('.')[-1]\n",
    "        cntnt = cntnt.replace(effix, '')\n",
    "        return {\"content\": cntnt}\n",
    "\n",
    "    def get_valid_ticker_name(self, ticker):\n",
    "        try:\n",
    "            return stock.get_market_ticker_name(ticker)\n",
    "        except:\n",
    "            pass\n",
    "\n",
    "    def get_news(self, ticker, dt):\n",
    "        # logger instance 생성\n",
    "        logger = logging.getLogger(__name__)\n",
    "        # Format 설정\n",
    "        formatter = logging.Formatter(\n",
    "            \"%(asctime)s %(levelname)s [%(name)s] [%(filename)s:%(lineno)d] - %(message)s\"\n",
    "        )\n",
    "        # handler 생성\n",
    "        streamHandler = logging.StreamHandler()\n",
    "        streamHandler.setFormatter(formatter)\n",
    "        logger.addHandler(streamHandler)\n",
    "        logger.setLevel(level=logging.INFO)\n",
    "\n",
    "        today = date.today().strftime(\"%Y-%m-%d\")\n",
    "        print(f'today= {today}')\n",
    "        if dt is None:\n",
    "            dt = today\n",
    "        else:\n",
    "            dt = dt\n",
    "\n",
    "        # 회사 정보 만들기.\n",
    "        _comp = {}\n",
    "        _comp[\"ticker\"] = ticker\n",
    "        _comp[\"name\"] = [self.get_valid_ticker_name(x) for x in ticker]\n",
    "    \n",
    "        print('_comp = ', _comp)\n",
    "        # 이미 있는 날짜와 회사 정보 가져오기\n",
    "\n",
    "        for i, t in enumerate(_comp[\"ticker\"]):\n",
    "            logger.info(\"i = {}, comp = {}\".format(i, _comp[\"ticker\"][i]))\n",
    "            try:\n",
    "                msg = \"company = {}\".format(_comp[\"name\"][i])\n",
    "                logger.info(msg)\n",
    "                time.sleep(1)\n",
    "                self._crawl_by_query(ticker=t, dt=dt)\n",
    "            except Exception as e:\n",
    "                logger.error(e)\n",
    "                pass"
   ]
  },
  {
   "cell_type": "code",
   "execution_count": 6,
   "id": "d2ac8ee1-e2ca-459f-b6d6-8a22c4845e99",
   "metadata": {},
   "outputs": [
    {
     "name": "stdout",
     "output_type": "stream",
     "text": [
      "today= 2022-03-29\n"
     ]
    },
    {
     "name": "stderr",
     "output_type": "stream",
     "text": [
      "2022-03-29 02:41:02,911 INFO [__main__] [3597079524.py:109] - i = 0, comp = 005930\n",
      "2022-03-29 02:41:02,912 INFO [__main__] [3597079524.py:112] - company = 삼성전자\n"
     ]
    },
    {
     "name": "stdout",
     "output_type": "stream",
     "text": [
      "_comp =  {'ticker': ['005930', '005930'], 'name': ['삼성전자', '삼성전자']}\n",
      "comp name =  삼성전자\n",
      "url =  https://finance.naver.com/news/news_search.nhn?rcdate=&q=%Bb%Ef%Bc%Ba%C0%Fc%C0%Da&x=0&y=0&sm=all.basic&pd=4&stDateStart=2022-03-22&stDateEnd=2022-03-22&page=1\n",
      "url =  https://finance.naver.com/news/news_search.nhn?rcdate=&q=%Bb%Ef%Bc%Ba%C0%Fc%C0%Da&x=0&y=0&sm=all.basic&pd=4&stDateStart=2022-03-22&stDateEnd=2022-03-22&page=2\n",
      "url =  https://finance.naver.com/news/news_search.nhn?rcdate=&q=%Bb%Ef%Bc%Ba%C0%Fc%C0%Da&x=0&y=0&sm=all.basic&pd=4&stDateStart=2022-03-22&stDateEnd=2022-03-22&page=3\n",
      "url =  https://finance.naver.com/news/news_search.nhn?rcdate=&q=%Bb%Ef%Bc%Ba%C0%Fc%C0%Da&x=0&y=0&sm=all.basic&pd=4&stDateStart=2022-03-22&stDateEnd=2022-03-22&page=4\n",
      "url =  https://finance.naver.com/news/news_search.nhn?rcdate=&q=%Bb%Ef%Bc%Ba%C0%Fc%C0%Da&x=0&y=0&sm=all.basic&pd=4&stDateStart=2022-03-22&stDateEnd=2022-03-22&page=5\n",
      "url =  https://finance.naver.com/news/news_search.nhn?rcdate=&q=%Bb%Ef%Bc%Ba%C0%Fc%C0%Da&x=0&y=0&sm=all.basic&pd=4&stDateStart=2022-03-22&stDateEnd=2022-03-22&page=6\n",
      "url =  https://finance.naver.com/news/news_search.nhn?rcdate=&q=%Bb%Ef%Bc%Ba%C0%Fc%C0%Da&x=0&y=0&sm=all.basic&pd=4&stDateStart=2022-03-22&stDateEnd=2022-03-22&page=7\n",
      "url =  https://finance.naver.com/news/news_search.nhn?rcdate=&q=%Bb%Ef%Bc%Ba%C0%Fc%C0%Da&x=0&y=0&sm=all.basic&pd=4&stDateStart=2022-03-22&stDateEnd=2022-03-22&page=8\n",
      "url =  https://finance.naver.com/news/news_search.nhn?rcdate=&q=%Bb%Ef%Bc%Ba%C0%Fc%C0%Da&x=0&y=0&sm=all.basic&pd=4&stDateStart=2022-03-22&stDateEnd=2022-03-22&page=9\n",
      "url =  https://finance.naver.com/news/news_search.nhn?rcdate=&q=%Bb%Ef%Bc%Ba%C0%Fc%C0%Da&x=0&y=0&sm=all.basic&pd=4&stDateStart=2022-03-22&stDateEnd=2022-03-22&page=10\n",
      "url =  https://finance.naver.com/news/news_search.nhn?rcdate=&q=%Bb%Ef%Bc%Ba%C0%Fc%C0%Da&x=0&y=0&sm=all.basic&pd=4&stDateStart=2022-03-22&stDateEnd=2022-03-22&page=11\n",
      "url =  https://finance.naver.com/news/news_search.nhn?rcdate=&q=%Bb%Ef%Bc%Ba%C0%Fc%C0%Da&x=0&y=0&sm=all.basic&pd=4&stDateStart=2022-03-22&stDateEnd=2022-03-22&page=12\n"
     ]
    },
    {
     "name": "stderr",
     "output_type": "stream",
     "text": [
      "2022-03-29 02:45:35,636 INFO [__main__] [3597079524.py:109] - i = 1, comp = 005930\n"
     ]
    },
    {
     "name": "stdout",
     "output_type": "stream",
     "text": [
      "url =  https://finance.naver.com/news/news_search.nhn?rcdate=&q=%Bb%Ef%Bc%Ba%C0%Fc%C0%Da&x=0&y=0&sm=all.basic&pd=4&stDateStart=2022-03-22&stDateEnd=2022-03-22&page=13\n",
      "number of news for comp 삼성전자 = 204\n"
     ]
    },
    {
     "name": "stderr",
     "output_type": "stream",
     "text": [
      "2022-03-29 02:45:35,637 INFO [__main__] [3597079524.py:112] - company = 삼성전자\n"
     ]
    },
    {
     "name": "stdout",
     "output_type": "stream",
     "text": [
      "comp name =  삼성전자\n",
      "url =  https://finance.naver.com/news/news_search.nhn?rcdate=&q=%Bb%Ef%Bc%Ba%C0%Fc%C0%Da&x=0&y=0&sm=all.basic&pd=4&stDateStart=2022-03-22&stDateEnd=2022-03-22&page=1\n",
      "url =  https://finance.naver.com/news/news_search.nhn?rcdate=&q=%Bb%Ef%Bc%Ba%C0%Fc%C0%Da&x=0&y=0&sm=all.basic&pd=4&stDateStart=2022-03-22&stDateEnd=2022-03-22&page=2\n",
      "url =  https://finance.naver.com/news/news_search.nhn?rcdate=&q=%Bb%Ef%Bc%Ba%C0%Fc%C0%Da&x=0&y=0&sm=all.basic&pd=4&stDateStart=2022-03-22&stDateEnd=2022-03-22&page=3\n",
      "url =  https://finance.naver.com/news/news_search.nhn?rcdate=&q=%Bb%Ef%Bc%Ba%C0%Fc%C0%Da&x=0&y=0&sm=all.basic&pd=4&stDateStart=2022-03-22&stDateEnd=2022-03-22&page=4\n",
      "url =  https://finance.naver.com/news/news_search.nhn?rcdate=&q=%Bb%Ef%Bc%Ba%C0%Fc%C0%Da&x=0&y=0&sm=all.basic&pd=4&stDateStart=2022-03-22&stDateEnd=2022-03-22&page=5\n",
      "url =  https://finance.naver.com/news/news_search.nhn?rcdate=&q=%Bb%Ef%Bc%Ba%C0%Fc%C0%Da&x=0&y=0&sm=all.basic&pd=4&stDateStart=2022-03-22&stDateEnd=2022-03-22&page=6\n",
      "url =  https://finance.naver.com/news/news_search.nhn?rcdate=&q=%Bb%Ef%Bc%Ba%C0%Fc%C0%Da&x=0&y=0&sm=all.basic&pd=4&stDateStart=2022-03-22&stDateEnd=2022-03-22&page=7\n"
     ]
    },
    {
     "ename": "KeyboardInterrupt",
     "evalue": "",
     "output_type": "error",
     "traceback": [
      "\u001b[1;31m---------------------------------------------------------------------------\u001b[0m",
      "\u001b[1;31mKeyboardInterrupt\u001b[0m                         Traceback (most recent call last)",
      "Input \u001b[1;32mIn [6]\u001b[0m, in \u001b[0;36m<cell line: 2>\u001b[1;34m()\u001b[0m\n\u001b[0;32m      1\u001b[0m NNC \u001b[38;5;241m=\u001b[39m NaverFinanceNewsCrawler()\n\u001b[1;32m----> 2\u001b[0m res \u001b[38;5;241m=\u001b[39m \u001b[43mNNC\u001b[49m\u001b[38;5;241;43m.\u001b[39;49m\u001b[43mget_news\u001b[49m\u001b[43m(\u001b[49m\u001b[43m[\u001b[49m\u001b[38;5;124;43m'\u001b[39;49m\u001b[38;5;124;43m005930\u001b[39;49m\u001b[38;5;124;43m'\u001b[39;49m\u001b[43m,\u001b[49m\u001b[43m \u001b[49m\u001b[38;5;124;43m'\u001b[39;49m\u001b[38;5;124;43m005930\u001b[39;49m\u001b[38;5;124;43m'\u001b[39;49m\u001b[43m]\u001b[49m\u001b[43m,\u001b[49m\u001b[43m \u001b[49m\u001b[38;5;124;43m'\u001b[39;49m\u001b[38;5;124;43m2022-03-22\u001b[39;49m\u001b[38;5;124;43m'\u001b[39;49m\u001b[43m)\u001b[49m\n",
      "Input \u001b[1;32mIn [5]\u001b[0m, in \u001b[0;36mNaverFinanceNewsCrawler.get_news\u001b[1;34m(self, ticker, dt)\u001b[0m\n\u001b[0;32m    112\u001b[0m     logger\u001b[38;5;241m.\u001b[39minfo(msg)\n\u001b[0;32m    113\u001b[0m     time\u001b[38;5;241m.\u001b[39msleep(\u001b[38;5;241m1\u001b[39m)\n\u001b[1;32m--> 114\u001b[0m     \u001b[38;5;28;43mself\u001b[39;49m\u001b[38;5;241;43m.\u001b[39;49m\u001b[43m_crawl_by_query\u001b[49m\u001b[43m(\u001b[49m\u001b[43mticker\u001b[49m\u001b[38;5;241;43m=\u001b[39;49m\u001b[43mt\u001b[49m\u001b[43m,\u001b[49m\u001b[43m \u001b[49m\u001b[43mdt\u001b[49m\u001b[38;5;241;43m=\u001b[39;49m\u001b[43mdt\u001b[49m\u001b[43m)\u001b[49m\n\u001b[0;32m    115\u001b[0m \u001b[38;5;28;01mexcept\u001b[39;00m \u001b[38;5;167;01mException\u001b[39;00m \u001b[38;5;28;01mas\u001b[39;00m e:\n\u001b[0;32m    116\u001b[0m     logger\u001b[38;5;241m.\u001b[39merror(e)\n",
      "Input \u001b[1;32mIn [5]\u001b[0m, in \u001b[0;36mNaverFinanceNewsCrawler._crawl_by_query\u001b[1;34m(self, ticker, dt)\u001b[0m\n\u001b[0;32m     54\u001b[0m             \u001b[38;5;66;03m#             if self.query in res['title']:\u001b[39;00m\n\u001b[0;32m     55\u001b[0m             \u001b[38;5;28mself\u001b[39m\u001b[38;5;241m.\u001b[39mresult\u001b[38;5;241m.\u001b[39mappend(res)\n\u001b[1;32m---> 56\u001b[0m             \u001b[43mtime\u001b[49m\u001b[38;5;241;43m.\u001b[39;49m\u001b[43msleep\u001b[49m\u001b[43m(\u001b[49m\u001b[38;5;241;43m1\u001b[39;49m\u001b[43m)\u001b[49m\n\u001b[0;32m     57\u001b[0m     page \u001b[38;5;241m+\u001b[39m\u001b[38;5;241m=\u001b[39m \u001b[38;5;241m1\u001b[39m\n\u001b[0;32m     59\u001b[0m \u001b[38;5;28;01melse\u001b[39;00m:\n",
      "\u001b[1;31mKeyboardInterrupt\u001b[0m: "
     ]
    }
   ],
   "source": [
    "NNC = NaverFinanceNewsCrawler()\n",
    "res = NNC.get_news(['005930', '005930'], '2022-03-22')"
   ]
  },
  {
   "cell_type": "code",
   "execution_count": null,
   "id": "4253a6de-6070-4b83-8e71-b47ef025e47e",
   "metadata": {},
   "outputs": [],
   "source": [
    "NNC.result"
   ]
  },
  {
   "cell_type": "code",
   "execution_count": null,
   "id": "43c664bd-762c-4d03-bdbe-57f7d00b81bf",
   "metadata": {},
   "outputs": [],
   "source": []
  }
 ],
 "metadata": {
  "kernelspec": {
   "display_name": "Python 3 (ipykernel)",
   "language": "python",
   "name": "python3"
  },
  "language_info": {
   "codemirror_mode": {
    "name": "ipython",
    "version": 3
   },
   "file_extension": ".py",
   "mimetype": "text/x-python",
   "name": "python",
   "nbconvert_exporter": "python",
   "pygments_lexer": "ipython3",
   "version": "3.8.12"
  }
 },
 "nbformat": 4,
 "nbformat_minor": 5
}
