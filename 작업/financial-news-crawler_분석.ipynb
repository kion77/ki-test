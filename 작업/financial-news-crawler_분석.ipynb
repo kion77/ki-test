{
 "cells": [
  {
   "cell_type": "code",
   "execution_count": 1,
   "id": "8985d04d-54fc-4ce9-b1b1-46cce6361b32",
   "metadata": {},
   "outputs": [],
   "source": [
    "import json, logging, os, re, requests, sys, time\n",
    "import pandas as pd\n",
    "\n",
    "from bs4 import BeautifulSoup as bs\n",
    "from urllib.request import urlopen, Request\n",
    "from datetime import date, datetime\n",
    "from pykrx import stock\n",
    "from webob.compat import urlparse\n",
    "import lxml\n",
    "URL_NAVER_FINANCE_NEWS_QUERY = \"https://finance.naver.com/news/news_search.nhn?rcdate=&q=%s&x=0&y=0&sm=all.basic&pd=4&stDateStart=%s&stDateEnd=%s&page=%s\"\n",
    "URL_NAVER_FINANCE = \"http://finance.naver.com\""
   ]
  },
  {
   "cell_type": "code",
   "execution_count": 2,
   "id": "5a0c6e31-9e22-430d-b520-c402f5337420",
   "metadata": {},
   "outputs": [
    {
     "name": "stdout",
     "output_type": "stream",
     "text": [
      "comp name =  신풍제약\n"
     ]
    }
   ],
   "source": [
    "comp_name = stock.get_market_ticker_name('019170')\n",
    "print(\"comp name = \", comp_name)"
   ]
  },
  {
   "cell_type": "code",
   "execution_count": 3,
   "id": "20b5d3f0-5f4b-49eb-856f-7e043a5626bd",
   "metadata": {},
   "outputs": [
    {
     "name": "stdout",
     "output_type": "stream",
     "text": [
      "%Bd\n",
      "%Bd%C5\n",
      "%Bd%C5%C7\n",
      "%Bd%C5%C7%B3\n",
      "%Bd%C5%C7%B3%C1\n",
      "%Bd%C5%C7%B3%C1%A6\n",
      "%Bd%C5%C7%B3%C1%A6%Be\n",
      "%Bd%C5%C7%B3%C1%A6%Be%E0\n"
     ]
    }
   ],
   "source": [
    "q = \"\"\n",
    "for c in comp_name.encode(\"euc-kr\"):\n",
    "    q += '%%%s' % format(c, \"x\").capitalize()\n",
    "    print(q)"
   ]
  },
  {
   "cell_type": "code",
   "execution_count": 4,
   "id": "706d0451-73f7-437b-b289-d6e7fff050ff",
   "metadata": {},
   "outputs": [],
   "source": [
    "page = 1\n",
    "n_news = 0"
   ]
  },
  {
   "cell_type": "code",
   "execution_count": 5,
   "id": "149d5b49-571b-425c-a200-b67364231aeb",
   "metadata": {},
   "outputs": [],
   "source": [
    "r_url = URL_NAVER_FINANCE_NEWS_QUERY % (q, '2022-03-29', '2022-03-30', page,)"
   ]
  },
  {
   "cell_type": "code",
   "execution_count": 6,
   "id": "66e6b2ea-cf70-45bf-bbf7-811e89a1808b",
   "metadata": {},
   "outputs": [],
   "source": [
    "r = requests.get(r_url)"
   ]
  },
  {
   "cell_type": "code",
   "execution_count": 7,
   "id": "4dc6b914-fd05-4fb4-9094-9324ed686cd1",
   "metadata": {},
   "outputs": [],
   "source": [
    "soup = bs(r.text,'lxml')"
   ]
  },
  {
   "cell_type": "code",
   "execution_count": 8,
   "id": "5d48cc59-cf51-42b9-b901-8c8d6d55a72b",
   "metadata": {},
   "outputs": [],
   "source": [
    "news = soup.find('div', {'class':'newsSchResult'}).find('dl',{'class':'newsList'})"
   ]
  },
  {
   "cell_type": "code",
   "execution_count": 9,
   "id": "dfd8728f-dc1c-409f-93a2-aaa63f51efa0",
   "metadata": {},
   "outputs": [
    {
     "data": {
      "text/plain": [
       "[<dd class=\"articleSubject\">\n",
       " <a href=\"/news/news_read.naver?article_id=0005066323&amp;office_id=277&amp;mode=search&amp;query=신풍제약&amp;page=1\">코스피, 기관 매수세에 상승 마감…2750선 안착에는 실패</a>\n",
       " </dd>,\n",
       " <dd class=\"articleSubject\">\n",
       " <a href=\"/news/news_read.naver?article_id=0002589520&amp;office_id=119&amp;mode=search&amp;query=신풍제약&amp;page=1\">라게브리오 도입…일동제약, 신풍제약 먹는 코로나약 경쟁력은</a>\n",
       " </dd>,\n",
       " <dd class=\"articleSubject\">\n",
       " <a href=\"/news/news_read.naver?article_id=0004725985&amp;office_id=008&amp;mode=search&amp;query=신풍제약&amp;page=1\">종근당건강 건기식서 대박나자...너도나도 캐시카우 노린다</a>\n",
       " </dd>,\n",
       " <dd class=\"articleSubject\">\n",
       " <a href=\"/news/news_read.naver?article_id=0004035483&amp;office_id=011&amp;mode=search&amp;query=신풍제약&amp;page=1\">신풍제약에 고수익 투자자 매수세</a>\n",
       " </dd>]"
      ]
     },
     "execution_count": 9,
     "metadata": {},
     "output_type": "execute_result"
    }
   ],
   "source": [
    "news_title = news.find_all('dd',{'class':'articleSubject'})\n",
    "news_title"
   ]
  },
  {
   "cell_type": "code",
   "execution_count": 10,
   "id": "51bc2cf0-2e54-4213-a0ef-f31f334a19a5",
   "metadata": {},
   "outputs": [],
   "source": [
    "news_summary = news.find_all('dd',{'class':'articleSummary'})"
   ]
  },
  {
   "cell_type": "code",
   "execution_count": 11,
   "id": "7d966bfd-4fc0-4068-a7b6-ddd1d3e7cbed",
   "metadata": {},
   "outputs": [],
   "source": [
    "wdate = news.find_all('span', {'class':'wdate'})"
   ]
  },
  {
   "cell_type": "code",
   "execution_count": 12,
   "id": "8bdb9fde-6de8-4574-8504-2b476f494b40",
   "metadata": {},
   "outputs": [],
   "source": [
    "n_news += len(news_title)"
   ]
  },
  {
   "cell_type": "code",
   "execution_count": 13,
   "id": "969339f4-3a27-425f-a1f0-330f9c97e269",
   "metadata": {},
   "outputs": [
    {
     "data": {
      "text/plain": [
       "4"
      ]
     },
     "execution_count": 13,
     "metadata": {},
     "output_type": "execute_result"
    }
   ],
   "source": [
    "n_news"
   ]
  },
  {
   "cell_type": "code",
   "execution_count": 14,
   "id": "48c44370-ee39-428f-a415-696690cf178d",
   "metadata": {},
   "outputs": [
    {
     "name": "stdout",
     "output_type": "stream",
     "text": [
      "\n",
      "\n"
     ]
    }
   ],
   "source": [
    "for title, summary, _date in zip(news_title, news_summary, wdate):\n",
    "    date = _date.find(text=True).split(\"\\n\")[2].strip()\n",
    "    news_title = title.find(text=True)\n",
    "    print(news_title)\n",
    "    break"
   ]
  },
  {
   "cell_type": "code",
   "execution_count": 16,
   "id": "9b31339e-8ebf-46fd-943c-bf3f3861c629",
   "metadata": {},
   "outputs": [
    {
     "data": {
      "text/plain": [
       "'코스피, 기관 매수세에 상승 마감…2750선 안착에는 실패'"
      ]
     },
     "execution_count": 16,
     "metadata": {},
     "output_type": "execute_result"
    }
   ],
   "source": [
    "title.a.text"
   ]
  },
  {
   "cell_type": "code",
   "execution_count": 17,
   "id": "68a01174-cb86-475b-90e7-ae6d6484486e",
   "metadata": {},
   "outputs": [],
   "source": [
    "url = URL_NAVER_FINANCE + title.a.get(\"href\")"
   ]
  },
  {
   "cell_type": "code",
   "execution_count": 18,
   "id": "32bce0e3-6c5c-47e1-a7ee-bad4ff3b54b4",
   "metadata": {},
   "outputs": [
    {
     "data": {
      "text/plain": [
       "'의약품업 중에선 일동제약(9.4%)과 신풍제약(4.8%)이 강세를 보였는데 코로나 치료제 개발 기대감이 반영됐다. 전일 미국 증시에서 자동차 주...'"
      ]
     },
     "execution_count": 18,
     "metadata": {},
     "output_type": "execute_result"
    }
   ],
   "source": [
    "summary.find(text=True).strip('\\n\\t\\r')"
   ]
  },
  {
   "cell_type": "code",
   "execution_count": 20,
   "id": "5bac3f11-bd40-4310-bc84-1dcdebe82009",
   "metadata": {},
   "outputs": [
    {
     "data": {
      "text/plain": [
       "'0005066323'"
      ]
     },
     "execution_count": 20,
     "metadata": {},
     "output_type": "execute_result"
    }
   ],
   "source": [
    "urlparse.parse_qs(urlparse.urlparse(url).query)['article_id'][0]"
   ]
  },
  {
   "cell_type": "code",
   "execution_count": 21,
   "id": "23356dfb-49a4-4931-a7f4-ff149f88d309",
   "metadata": {},
   "outputs": [],
   "source": [
    "r = requests.get(url)\n",
    "soup = bs(r.text, \"lxml\")"
   ]
  },
  {
   "cell_type": "code",
   "execution_count": 23,
   "id": "1e39860f-abf5-4e4e-97dc-ca2457553e63",
   "metadata": {},
   "outputs": [
    {
     "data": {
      "text/plain": [
       "[]"
      ]
     },
     "execution_count": 23,
     "metadata": {},
     "output_type": "execute_result"
    }
   ],
   "source": [
    "content = soup.find(\"div\", class_=\"articleCont\", id=\"content\")\n",
    "re.findall(r\"\\d{5}\",content.text)"
   ]
  },
  {
   "cell_type": "code",
   "execution_count": 25,
   "id": "3d86762a-00c3-4ee4-b9b5-179c3a726122",
   "metadata": {},
   "outputs": [
    {
     "data": {
      "text/plain": [
       "<div class=\"articleCont\" id=\"content\">\n",
       "<span class=\"end_photo_org\"><img alt=\"\" src=\"https://imgnews.pstatic.net/image/277/2022/03/30/0005066323_001_20220330155801505.jpg?type=w540\"/><em class=\"img_desc\">[이미지출처=연합뉴스]</em></span><br/><br/>코스피가 장단기 금리 역전에 따른 경기 침체 우려 등에도 상승 마감했다. 다만 장중 외국인이 순매도로 돌아서면서 2750선 안착에는 실패했다.<br/><br/>30일 코스피는 전 거래일 대비 0.21%(5.67포인트) 상승한 2746.74로 장을 끝냈다. 이날 코스피는 장 초반에는 0.6%가 넘는 오름세를 보였다. 전일 미국 증시가 장단기 금리 역전에 따른 경기침체 우려에도 러시아와 우크라이나의 휴전 기대감을 높게 반영하면서 상승 마감한 것이 긍정적으로 작용했다. 그러나 외국인이 순매도로 돌아서면서 장 막판엔 상승폭이 줄어들었다. <br/><br/>투자자동향을 보면 기관이 1604억원을 샀고 개인과 외국인이 각각 1376억원, 111억원어치 주식을 팔았다.<br/><br/>이경민 대신증권 연구원은 “3월 중순부터 이어진 글로벌 증시 상승세는 결국 기대감에 의존한 것”이라며 “국내 증시는 중국발 변수에 이어 일본 변수까지 신경을 써야하는 상황에서 국내 기업 실적 관련 불확실성도 유입돼 다른 아시아 증시 대비 부진한 모습을 보였다”고 설명했다.<br/><br/>이날 증시에선 의료정밀(1.87%), 의약품(1.83%), 운수장비(1.26%) 업종이 강세를 보였다. 의약품업 중에선 일동제약(9.4%)과 신풍제약(4.8%)이 강세를 보였는데 코로나 치료제 개발 기대감이 반영됐다. 전일 미국 증시에서 자동차 주가 강세를 보인 영향을 받아 자동차 관련주도 상승했다. 종목별로는 세종공업(7.4%) 기아(2.6%), 현대차(2.5%), 현대위아(2.4%) 등이 오름세를 보였다.<br/><br/>시가총액 상위종목을 보면 삼성전자(-0.43%), LG에너지솔루션(-0.11%)이 하락했고, SK하이닉스(0.83%), NAVER(1.50%), 삼성바이오로직스(1.93%), 카카오(0.95%), 삼성SDI(3.51%)은 상승했다.<br/><br/>같은 시각 코스닥지수는 전 거래일 대비 0.13%(1.24포인트) 상승한 937.07로 장을 끝냈다. 투자자 동향을 보면 개인과 외국인이 각각 270억원, 233억원어치 주식을 샀고 기관은 홀로 296억원어치 주식을 팔아치웠다. 시가총액 상위종목을 보면 셀트리온헬스케어(0.07%), 에코프로비엠(1.30%), 엘앤에프(2.16%), 펄어비스(0.99%), 셀트리온제약(0.51%)은 상승했고 카카오게임즈(-1.87%), 위메이드(-0.3%), 천보(-0.69%) 등은 하락했다.<br/><br/><div class=\"link_news\"><h3>아시아경제 관련뉴스<span>해당 언론사에서 선정하며 <em>언론사 페이지(아웃링크)</em>로 이동해 볼 수 있습니다.</span></h3><ul><li><a href=\"https://www.asiae.co.kr/article/2022032910032576844?utm_source=news.naver.com&amp;utm_medium=referral&amp;utm_campaign=2022033015565010672\" target=\"_blank\">\"룰라 이상민 남은 빚 확인해보니\"…유튜버가 파헤친 '빚쟁이 코스프레' 실체</a></li><li><a href=\"https://www.asiae.co.kr/article/2022032910312634665?utm_source=news.naver.com&amp;utm_medium=referral&amp;utm_campaign=2022033015565010672\" target=\"_blank\">최성원 \"백혈병 재발 후 유서 작성...제일 먼저 임철수 떠올라\"</a></li><li><a href=\"https://www.asiae.co.kr/article/2022032715234207956?utm_source=news.naver.com&amp;utm_medium=referral&amp;utm_campaign=2022033015565010672\" target=\"_blank\">낮엔 굴삭기 기사, 밤에는 '포주'…40대 남성의 두 얼굴</a></li><li><a href=\"https://www.asiae.co.kr/article/2022032822470476916?utm_source=news.naver.com&amp;utm_medium=referral&amp;utm_campaign=2022033015565010672\" target=\"_blank\">'장애아 엄마' 나경원, 이준석과 거리두기…\" 조롱 미성숙해\"</a></li><li><a href=\"https://www.asiae.co.kr/article/2022032909470629562?utm_source=news.naver.com&amp;utm_medium=referral&amp;utm_campaign=2022033015565010672\" target=\"_blank\">\"6개월마다 새로운 변이 나온다\"…유럽서 또 새 변이 발견</a></li></ul></div>\n",
       "</div>"
      ]
     },
     "execution_count": 25,
     "metadata": {},
     "output_type": "execute_result"
    }
   ],
   "source": [
    "content"
   ]
  },
  {
   "cell_type": "code",
   "execution_count": 26,
   "id": "9fdc0fc6-5067-4dd7-b655-730c90b029f0",
   "metadata": {},
   "outputs": [],
   "source": [
    "cntnt = content.text.strip('\\n\\t\\r').split('@')[0]"
   ]
  },
  {
   "cell_type": "code",
   "execution_count": 27,
   "id": "2d321ca7-99a1-43d1-9631-08860f4a3cc0",
   "metadata": {},
   "outputs": [
    {
     "data": {
      "text/plain": [
       "'제일 먼저 임철수 떠올라\"낮엔 굴삭기 기사, 밤에는 \\'포주\\'…40대 남성의 두 얼굴\\'장애아 엄마\\' 나경원, 이준석과 거리두기…\" 조롱 미성숙해\"\"6개월마다 새로운 변이 나온다\"…유럽서 또 새 변이 발견'"
      ]
     },
     "execution_count": 27,
     "metadata": {},
     "output_type": "execute_result"
    }
   ],
   "source": [
    "effix = cntnt.split('.')[-1]\n",
    "effix"
   ]
  },
  {
   "cell_type": "code",
   "execution_count": 28,
   "id": "d232f74f-d09c-41f6-a2fd-183583f1ea93",
   "metadata": {},
   "outputs": [
    {
     "data": {
      "text/plain": [
       "['[이미지출처=연합뉴스]코스피가 장단기 금리 역전에 따른 경기 침체 우려 등에도 상승 마감했다',\n",
       " ' 다만 장중 외국인이 순매도로 돌아서면서 2750선 안착에는 실패했다',\n",
       " '30일 코스피는 전 거래일 대비 0',\n",
       " '21%(5',\n",
       " '67포인트) 상승한 2746',\n",
       " '74로 장을 끝냈다',\n",
       " ' 이날 코스피는 장 초반에는 0',\n",
       " '6%가 넘는 오름세를 보였다',\n",
       " ' 전일 미국 증시가 장단기 금리 역전에 따른 경기침체 우려에도 러시아와 우크라이나의 휴전 기대감을 높게 반영하면서 상승 마감한 것이 긍정적으로 작용했다',\n",
       " ' 그러나 외국인이 순매도로 돌아서면서 장 막판엔 상승폭이 줄어들었다',\n",
       " ' 투자자동향을 보면 기관이 1604억원을 샀고 개인과 외국인이 각각 1376억원, 111억원어치 주식을 팔았다',\n",
       " '이경민 대신증권 연구원은 “3월 중순부터 이어진 글로벌 증시 상승세는 결국 기대감에 의존한 것”이라며 “국내 증시는 중국발 변수에 이어 일본 변수까지 신경을 써야하는 상황에서 국내 기업 실적 관련 불확실성도 유입돼 다른 아시아 증시 대비 부진한 모습을 보였다”고 설명했다',\n",
       " '이날 증시에선 의료정밀(1',\n",
       " '87%), 의약품(1',\n",
       " '83%), 운수장비(1',\n",
       " '26%) 업종이 강세를 보였다',\n",
       " ' 의약품업 중에선 일동제약(9',\n",
       " '4%)과 신풍제약(4',\n",
       " '8%)이 강세를 보였는데 코로나 치료제 개발 기대감이 반영됐다',\n",
       " ' 전일 미국 증시에서 자동차 주가 강세를 보인 영향을 받아 자동차 관련주도 상승했다',\n",
       " ' 종목별로는 세종공업(7',\n",
       " '4%) 기아(2',\n",
       " '6%), 현대차(2',\n",
       " '5%), 현대위아(2',\n",
       " '4%) 등이 오름세를 보였다',\n",
       " '시가총액 상위종목을 보면 삼성전자(-0',\n",
       " '43%), LG에너지솔루션(-0',\n",
       " '11%)이 하락했고, SK하이닉스(0',\n",
       " '83%), NAVER(1',\n",
       " '50%), 삼성바이오로직스(1',\n",
       " '93%), 카카오(0',\n",
       " '95%), 삼성SDI(3',\n",
       " '51%)은 상승했다',\n",
       " '같은 시각 코스닥지수는 전 거래일 대비 0',\n",
       " '13%(1',\n",
       " '24포인트) 상승한 937',\n",
       " '07로 장을 끝냈다',\n",
       " ' 투자자 동향을 보면 개인과 외국인이 각각 270억원, 233억원어치 주식을 샀고 기관은 홀로 296억원어치 주식을 팔아치웠다',\n",
       " ' 시가총액 상위종목을 보면 셀트리온헬스케어(0',\n",
       " '07%), 에코프로비엠(1',\n",
       " '30%), 엘앤에프(2',\n",
       " '16%), 펄어비스(0',\n",
       " '99%), 셀트리온제약(0',\n",
       " '51%)은 상승했고 카카오게임즈(-1',\n",
       " '87%), 위메이드(-0',\n",
       " '3%), 천보(-0',\n",
       " '69%) 등은 하락했다',\n",
       " '아시아경제 관련뉴스해당 언론사에서 선정하며 언론사 페이지(아웃링크)로 이동해 볼 수 있습니다',\n",
       " '\"룰라 이상민 남은 빚 확인해보니\"…유튜버가 파헤친 \\'빚쟁이 코스프레\\' 실체최성원 \"백혈병 재발 후 유서 작성',\n",
       " '',\n",
       " '',\n",
       " '제일 먼저 임철수 떠올라\"낮엔 굴삭기 기사, 밤에는 \\'포주\\'…40대 남성의 두 얼굴\\'장애아 엄마\\' 나경원, 이준석과 거리두기…\" 조롱 미성숙해\"\"6개월마다 새로운 변이 나온다\"…유럽서 또 새 변이 발견']"
      ]
     },
     "execution_count": 28,
     "metadata": {},
     "output_type": "execute_result"
    }
   ],
   "source": [
    "cntnt.split('.')"
   ]
  },
  {
   "cell_type": "code",
   "execution_count": 29,
   "id": "96fb92e0-0a37-46d1-8a55-dd092d0f875d",
   "metadata": {},
   "outputs": [
    {
     "data": {
      "text/plain": [
       "'[이미지출처=연합뉴스]코스피가 장단기 금리 역전에 따른 경기 침체 우려 등에도 상승 마감했다. 다만 장중 외국인이 순매도로 돌아서면서 2750선 안착에는 실패했다.30일 코스피는 전 거래일 대비 0.21%(5.67포인트) 상승한 2746.74로 장을 끝냈다. 이날 코스피는 장 초반에는 0.6%가 넘는 오름세를 보였다. 전일 미국 증시가 장단기 금리 역전에 따른 경기침체 우려에도 러시아와 우크라이나의 휴전 기대감을 높게 반영하면서 상승 마감한 것이 긍정적으로 작용했다. 그러나 외국인이 순매도로 돌아서면서 장 막판엔 상승폭이 줄어들었다. 투자자동향을 보면 기관이 1604억원을 샀고 개인과 외국인이 각각 1376억원, 111억원어치 주식을 팔았다.이경민 대신증권 연구원은 “3월 중순부터 이어진 글로벌 증시 상승세는 결국 기대감에 의존한 것”이라며 “국내 증시는 중국발 변수에 이어 일본 변수까지 신경을 써야하는 상황에서 국내 기업 실적 관련 불확실성도 유입돼 다른 아시아 증시 대비 부진한 모습을 보였다”고 설명했다.이날 증시에선 의료정밀(1.87%), 의약품(1.83%), 운수장비(1.26%) 업종이 강세를 보였다. 의약품업 중에선 일동제약(9.4%)과 신풍제약(4.8%)이 강세를 보였는데 코로나 치료제 개발 기대감이 반영됐다. 전일 미국 증시에서 자동차 주가 강세를 보인 영향을 받아 자동차 관련주도 상승했다. 종목별로는 세종공업(7.4%) 기아(2.6%), 현대차(2.5%), 현대위아(2.4%) 등이 오름세를 보였다.시가총액 상위종목을 보면 삼성전자(-0.43%), LG에너지솔루션(-0.11%)이 하락했고, SK하이닉스(0.83%), NAVER(1.50%), 삼성바이오로직스(1.93%), 카카오(0.95%), 삼성SDI(3.51%)은 상승했다.같은 시각 코스닥지수는 전 거래일 대비 0.13%(1.24포인트) 상승한 937.07로 장을 끝냈다. 투자자 동향을 보면 개인과 외국인이 각각 270억원, 233억원어치 주식을 샀고 기관은 홀로 296억원어치 주식을 팔아치웠다. 시가총액 상위종목을 보면 셀트리온헬스케어(0.07%), 에코프로비엠(1.30%), 엘앤에프(2.16%), 펄어비스(0.99%), 셀트리온제약(0.51%)은 상승했고 카카오게임즈(-1.87%), 위메이드(-0.3%), 천보(-0.69%) 등은 하락했다.아시아경제 관련뉴스해당 언론사에서 선정하며 언론사 페이지(아웃링크)로 이동해 볼 수 있습니다.\"룰라 이상민 남은 빚 확인해보니\"…유튜버가 파헤친 \\'빚쟁이 코스프레\\' 실체최성원 \"백혈병 재발 후 유서 작성...'"
      ]
     },
     "execution_count": 29,
     "metadata": {},
     "output_type": "execute_result"
    }
   ],
   "source": [
    "cntnt.replace(effix, '')"
   ]
  },
  {
   "cell_type": "code",
   "execution_count": 30,
   "id": "298a0f0d-c5bd-4ff6-8603-41a893c794dc",
   "metadata": {},
   "outputs": [],
   "source": [
    "logger = logging.getLogger(__name__)"
   ]
  },
  {
   "cell_type": "code",
   "execution_count": 31,
   "id": "585d5107-b2d9-4ead-b6dc-1b0cf0b7bdaa",
   "metadata": {},
   "outputs": [],
   "source": [
    "formatter = logging.Formatter(\n",
    "            \"%(asctime)s %(levelname)s [%(name)s] [%(filename)s:%(lineno)d] - %(message)s\"\n",
    "        )"
   ]
  },
  {
   "cell_type": "code",
   "execution_count": 32,
   "id": "734d19ee-bee0-4cb8-bb26-2578365e2a31",
   "metadata": {},
   "outputs": [
    {
     "data": {
      "text/plain": [
       "<logging.Formatter at 0x17850dfefd0>"
      ]
     },
     "execution_count": 32,
     "metadata": {},
     "output_type": "execute_result"
    }
   ],
   "source": [
    "formatter"
   ]
  },
  {
   "cell_type": "code",
   "execution_count": 33,
   "id": "68fa832d-a085-4ada-8c51-81e5e8b3c046",
   "metadata": {},
   "outputs": [],
   "source": [
    "streamHandler = logging.StreamHandler()"
   ]
  },
  {
   "cell_type": "code",
   "execution_count": 34,
   "id": "7ddc4e09-9600-4260-9988-fe2f74635448",
   "metadata": {},
   "outputs": [],
   "source": [
    "streamHandler.setFormatter(formatter)"
   ]
  },
  {
   "cell_type": "code",
   "execution_count": 35,
   "id": "aaec7209-0b15-499f-9a23-ccfb41b5c81b",
   "metadata": {},
   "outputs": [],
   "source": [
    "logger.addHandler(streamHandler)"
   ]
  },
  {
   "cell_type": "code",
   "execution_count": 36,
   "id": "63fe8f49-fc2c-4480-b154-a04fe05df195",
   "metadata": {},
   "outputs": [],
   "source": [
    "logger.setLevel(level=logging.INFO)"
   ]
  },
  {
   "cell_type": "code",
   "execution_count": 193,
   "id": "521ee281-c7fd-441a-ad66-641e8a434e42",
   "metadata": {},
   "outputs": [
    {
     "ename": "AttributeError",
     "evalue": "'str' object has no attribute 'today'",
     "output_type": "error",
     "traceback": [
      "\u001b[1;31m---------------------------------------------------------------------------\u001b[0m",
      "\u001b[1;31mAttributeError\u001b[0m                            Traceback (most recent call last)",
      "Input \u001b[1;32mIn [193]\u001b[0m, in \u001b[0;36m<cell line: 2>\u001b[1;34m()\u001b[0m\n\u001b[0;32m      1\u001b[0m dt \u001b[38;5;241m=\u001b[39m \u001b[38;5;124m'\u001b[39m\u001b[38;5;124m2022-03-30\u001b[39m\u001b[38;5;124m'\u001b[39m\n\u001b[1;32m----> 2\u001b[0m today \u001b[38;5;241m=\u001b[39m \u001b[43mdate\u001b[49m\u001b[38;5;241;43m.\u001b[39;49m\u001b[43mtoday\u001b[49m()\u001b[38;5;241m.\u001b[39mstrftime(\u001b[38;5;124m\"\u001b[39m\u001b[38;5;124m%\u001b[39m\u001b[38;5;124mY-\u001b[39m\u001b[38;5;124m%\u001b[39m\u001b[38;5;124mm-\u001b[39m\u001b[38;5;132;01m%d\u001b[39;00m\u001b[38;5;124m\"\u001b[39m)\n\u001b[0;32m      3\u001b[0m \u001b[38;5;28mprint\u001b[39m(\u001b[38;5;124mf\u001b[39m\u001b[38;5;124m'\u001b[39m\u001b[38;5;124mtoday= \u001b[39m\u001b[38;5;132;01m{\u001b[39;00mtoday\u001b[38;5;132;01m}\u001b[39;00m\u001b[38;5;124m'\u001b[39m)\n\u001b[0;32m      4\u001b[0m \u001b[38;5;28;01mif\u001b[39;00m dt \u001b[38;5;129;01mis\u001b[39;00m \u001b[38;5;28;01mNone\u001b[39;00m:\n",
      "\u001b[1;31mAttributeError\u001b[0m: 'str' object has no attribute 'today'"
     ]
    }
   ],
   "source": [
    "dt = '2022-03-30'\n",
    "today = date.today().strftime(\"%Y-%m-%d\")\n",
    "print(f'today= {today}')\n",
    "if dt is None:\n",
    "    dt = today\n",
    "else:\n",
    "    dt = dt"
   ]
  },
  {
   "cell_type": "code",
   "execution_count": 43,
   "id": "1e77c1d8-afe5-4140-b3a1-e0801c8b32f9",
   "metadata": {},
   "outputs": [
    {
     "data": {
      "text/plain": [
       "'2022-03-30'"
      ]
     },
     "execution_count": 43,
     "metadata": {},
     "output_type": "execute_result"
    }
   ],
   "source": [
    "datetime.today().strftime(\"%Y-%m-%d\")"
   ]
  },
  {
   "cell_type": "code",
   "execution_count": 42,
   "id": "313a0443-e8f9-49e8-b093-9f8c9d397ade",
   "metadata": {},
   "outputs": [
    {
     "ename": "NameError",
     "evalue": "name 'now' is not defined",
     "output_type": "error",
     "traceback": [
      "\u001b[1;31m---------------------------------------------------------------------------\u001b[0m",
      "\u001b[1;31mNameError\u001b[0m                                 Traceback (most recent call last)",
      "Input \u001b[1;32mIn [42]\u001b[0m, in \u001b[0;36m<cell line: 1>\u001b[1;34m()\u001b[0m\n\u001b[1;32m----> 1\u001b[0m \u001b[43mnow\u001b[49m\n",
      "\u001b[1;31mNameError\u001b[0m: name 'now' is not defined"
     ]
    }
   ],
   "source": [
    "now()"
   ]
  },
  {
   "cell_type": "code",
   "execution_count": 44,
   "id": "da514036-6adb-4d57-988d-7e90aab59a5e",
   "metadata": {},
   "outputs": [],
   "source": [
    "_comp = {}"
   ]
  },
  {
   "cell_type": "code",
   "execution_count": 56,
   "id": "5955ba3f-5e37-470f-80da-aac99b243d86",
   "metadata": {},
   "outputs": [],
   "source": [
    "_comp[\"ticker\"] = ['019170','005930']"
   ]
  },
  {
   "cell_type": "code",
   "execution_count": 48,
   "id": "b78e28f4-bc2a-486b-9404-1691839d4d30",
   "metadata": {},
   "outputs": [],
   "source": [
    "def get_valid_ticker_name(ticker):\n",
    "    try:\n",
    "        return stock.get_market_ticker_name(ticker)\n",
    "    except:\n",
    "        pass"
   ]
  },
  {
   "cell_type": "code",
   "execution_count": 59,
   "id": "0a2f3cea-2e88-4869-aa7e-29282cbaef4e",
   "metadata": {},
   "outputs": [],
   "source": [
    "_comp[\"name\"] = get_valid_ticker_name(['005930','019170'])"
   ]
  },
  {
   "cell_type": "code",
   "execution_count": 63,
   "id": "b2edd524-7d73-41c7-bb9e-aafbd5e2afe1",
   "metadata": {},
   "outputs": [],
   "source": [
    "_comp[\"name\"] = [get_valid_ticker_name(x) for x in ['005930','019170']]"
   ]
  },
  {
   "cell_type": "code",
   "execution_count": 64,
   "id": "35abdefb-463c-491a-9f4d-1196ff131bbf",
   "metadata": {},
   "outputs": [
    {
     "data": {
      "text/plain": [
       "{'ticker': ['019170', '005930'], 'name': ['삼성전자', '신풍제약']}"
      ]
     },
     "execution_count": 64,
     "metadata": {},
     "output_type": "execute_result"
    }
   ],
   "source": [
    "_comp"
   ]
  },
  {
   "cell_type": "code",
   "execution_count": 69,
   "id": "3b6317e6-bd69-4cdd-b722-579b3fcc9817",
   "metadata": {},
   "outputs": [
    {
     "name": "stderr",
     "output_type": "stream",
     "text": [
      "2022-03-30 17:05:11,288 INFO [__main__] [482169060.py:2] - i = 0, comp = 019170\n",
      "INFO:__main__:i = 0, comp = 019170\n",
      "2022-03-30 17:05:11,290 INFO [__main__] [482169060.py:5] - company = 삼성전자\n",
      "INFO:__main__:company = 삼성전자\n",
      "2022-03-30 17:05:12,305 ERROR [__main__] [482169060.py:9] - name 'self' is not defined\n",
      "ERROR:__main__:name 'self' is not defined\n",
      "2022-03-30 17:05:12,306 INFO [__main__] [482169060.py:2] - i = 1, comp = 005930\n",
      "INFO:__main__:i = 1, comp = 005930\n",
      "2022-03-30 17:05:12,307 INFO [__main__] [482169060.py:5] - company = 신풍제약\n",
      "INFO:__main__:company = 신풍제약\n",
      "2022-03-30 17:05:13,318 ERROR [__main__] [482169060.py:9] - name 'self' is not defined\n",
      "ERROR:__main__:name 'self' is not defined\n"
     ]
    }
   ],
   "source": [
    "for i, t in enumerate(_comp[\"ticker\"]):\n",
    "    logger.info(\"i = {}, comp = {}\".format(i, _comp[\"ticker\"][i]))\n",
    "    try:\n",
    "        msg = \"company = {}\".format(_comp[\"name\"][i])\n",
    "        logger.info(msg)\n",
    "        time.sleep(1)\n",
    "        self._crawl_by_query(ticker=t, dt=dt)\n",
    "    except Exception as e:\n",
    "        logger.error(e)\n",
    "        pass"
   ]
  },
  {
   "cell_type": "code",
   "execution_count": 67,
   "id": "1ebf0e74-67b0-481f-8d3c-0ea5ffa6da72",
   "metadata": {},
   "outputs": [],
   "source": [
    "msg = \"company = {}\".format(_comp[\"name\"][i])"
   ]
  },
  {
   "cell_type": "code",
   "execution_count": 68,
   "id": "74c8a46f-305f-4ecb-881b-fd7582ae5adc",
   "metadata": {},
   "outputs": [
    {
     "data": {
      "text/plain": [
       "'company = 신풍제약'"
      ]
     },
     "execution_count": 68,
     "metadata": {},
     "output_type": "execute_result"
    }
   ],
   "source": [
    "msg"
   ]
  },
  {
   "cell_type": "code",
   "execution_count": null,
   "id": "af81be09-17f8-4abb-a38a-38a1c9124e05",
   "metadata": {},
   "outputs": [],
   "source": []
  }
 ],
 "metadata": {
  "kernelspec": {
   "display_name": "Python 3 (ipykernel)",
   "language": "python",
   "name": "python3"
  },
  "language_info": {
   "codemirror_mode": {
    "name": "ipython",
    "version": 3
   },
   "file_extension": ".py",
   "mimetype": "text/x-python",
   "name": "python",
   "nbconvert_exporter": "python",
   "pygments_lexer": "ipython3",
   "version": "3.8.12"
  }
 },
 "nbformat": 4,
 "nbformat_minor": 5
}
